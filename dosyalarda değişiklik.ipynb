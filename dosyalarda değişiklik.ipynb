{
 "cells": [
  {
   "cell_type": "code",
   "execution_count": 1,
   "metadata": {},
   "outputs": [
    {
     "name": "stdout",
     "output_type": "stream",
     "text": [
      "Python,Java,Swift,C#,Vb. Programlama Dilleridir.\n",
      "Samet\n",
      "Serhat\n",
      "Saime\n",
      "\n"
     ]
    }
   ],
   "source": [
    "# r+ hem okur hemde yazar\n",
    "with open(\"bilgiler.txt\",\"r+\", encoding=\"utf-8\") as file:\n",
    "    print(file.read())"
   ]
  },
  {
   "cell_type": "code",
   "execution_count": 4,
   "metadata": {
    "collapsed": true
   },
   "outputs": [],
   "source": [
    "with open(\"bilgiler.txt\",\"r+\", encoding=\"utf-8\") as file:\n",
    "    file.seek(10)\n",
    "    file.write(\"**Deneme**\")"
   ]
  },
  {
   "cell_type": "code",
   "execution_count": 5,
   "metadata": {},
   "outputs": [
    {
     "name": "stdout",
     "output_type": "stream",
     "text": [
      "Python,Jav**Deneme**,Vb. Programlama Dilleridir.\n",
      "Samet\n",
      "Serhat\n",
      "Saime\n",
      "\n"
     ]
    }
   ],
   "source": [
    "with open(\"bilgiler.txt\",\"r+\", encoding=\"utf-8\") as file:\n",
    "    print(file.read())"
   ]
  },
  {
   "cell_type": "code",
   "execution_count": 6,
   "metadata": {},
   "outputs": [
    {
     "name": "stdout",
     "output_type": "stream",
     "text": [
      "Python,Java,Swift,C#,Vb. Programlama Dilleridir.\n",
      "Samet\n",
      "Serhat\n",
      "Saime\n",
      "\n"
     ]
    }
   ],
   "source": [
    "#dosyayı eski haline aldıktan sonra\n",
    "with open(\"bilgiler.txt\",\"r+\", encoding=\"utf-8\") as file:\n",
    "    print(file.read())"
   ]
  },
  {
   "cell_type": "code",
   "execution_count": 7,
   "metadata": {
    "collapsed": true
   },
   "outputs": [],
   "source": [
    "with open(\"bilgiler.txt\",\"a\", encoding=\"utf-8\") as file:\n",
    "    file.write(\"Çelikbıçak\\n\")"
   ]
  },
  {
   "cell_type": "code",
   "execution_count": 8,
   "metadata": {},
   "outputs": [
    {
     "name": "stdout",
     "output_type": "stream",
     "text": [
      "Python,Java,Swift,C#,Vb. Programlama Dilleridir.\n",
      "Samet\n",
      "Serhat\n",
      "Saime\n",
      "Çelikbıçak\n",
      "\n"
     ]
    }
   ],
   "source": [
    "with open(\"bilgiler.txt\",\"r+\", encoding=\"utf-8\") as file:\n",
    "    print(file.read())"
   ]
  },
  {
   "cell_type": "code",
   "execution_count": 9,
   "metadata": {
    "collapsed": true
   },
   "outputs": [],
   "source": [
    "with open(\"bilgiler.txt\",\"a\", encoding=\"utf-8\") as file:\n",
    "    file.write(\"Deneme\\n\")"
   ]
  },
  {
   "cell_type": "code",
   "execution_count": 10,
   "metadata": {},
   "outputs": [
    {
     "name": "stdout",
     "output_type": "stream",
     "text": [
      "Python,Java,Swift,C#,Vb. Programlama Dilleridir.\n",
      "Samet\n",
      "Serhat\n",
      "Saime\n",
      "Çelikbıçak\n",
      "Deneme\n",
      "\n"
     ]
    }
   ],
   "source": [
    "with open(\"bilgiler.txt\",\"r+\", encoding=\"utf-8\") as file:\n",
    "    print(file.read())"
   ]
  },
  {
   "cell_type": "code",
   "execution_count": 13,
   "metadata": {},
   "outputs": [
    {
     "name": "stdout",
     "output_type": "stream",
     "text": [
      "İlk satır eklendi\n",
      "Python,Java,Swift,C#,Vb. Programlama Dilleridir.\n",
      "Samet\n",
      "Serhat\n",
      "Saime\n",
      "Çelikbıçak\n",
      "Deneme\n",
      "\n"
     ]
    }
   ],
   "source": [
    "with open(\"bilgiler.txt\",\"r+\", encoding=\"utf-8\") as file:\n",
    "    icerik = file.read()\n",
    "    icerik = \"İlk satır eklendi\\n\" + icerik\n",
    "    print(icerik)\n",
    "    file.seek(0)\n",
    "    file.write(icerik)"
   ]
  },
  {
   "cell_type": "code",
   "execution_count": 14,
   "metadata": {},
   "outputs": [
    {
     "name": "stdout",
     "output_type": "stream",
     "text": [
      "İlk satır eklendi\n",
      "Python,Java,Swift,C#,Vb. Programlama Dilleridir.\n",
      "Samet\n",
      "Serhat\n",
      "Saime\n",
      "Çelikbıçak\n",
      "Deneme\n",
      "\n"
     ]
    }
   ],
   "source": [
    "with open(\"bilgiler.txt\",\"r+\", encoding=\"utf-8\") as file:\n",
    "    print(file.read())"
   ]
  },
  {
   "cell_type": "code",
   "execution_count": 15,
   "metadata": {},
   "outputs": [
    {
     "name": "stdout",
     "output_type": "stream",
     "text": [
      "['İlk satır eklendi\\n', 'Python,Java,Swift,C#,Vb. Programlama Dilleridir.\\n', 'Samet\\n', 'Serhat\\n', 'Saime\\n', 'Çelikbıçak\\n', 'Deneme\\n']\n"
     ]
    }
   ],
   "source": [
    "with open(\"bilgiler.txt\",\"r+\", encoding=\"utf-8\") as file:\n",
    "    liste = file.readlines()\n",
    "    print(liste)"
   ]
  },
  {
   "cell_type": "code",
   "execution_count": 17,
   "metadata": {},
   "outputs": [
    {
     "name": "stdout",
     "output_type": "stream",
     "text": [
      "['İlk satır eklendi\\n', 'Python,Java,Swift,C#,Vb. Programlama Dilleridir.\\n', 'Samet\\n', 'araya eklenen satır\\n', 'Serhat\\n', 'Saime\\n', 'Çelikbıçak\\n', 'Deneme\\n']\n"
     ]
    }
   ],
   "source": [
    "with open(\"bilgiler.txt\",\"r+\", encoding=\"utf-8\") as file:\n",
    "    liste = file.readlines()\n",
    "    liste.insert(3,\"araya eklenen satır\\n\")\n",
    "    print(liste)\n",
    "    file.seek(0)\n",
    "    for i in liste:\n",
    "        file.write(i)"
   ]
  },
  {
   "cell_type": "code",
   "execution_count": 18,
   "metadata": {},
   "outputs": [
    {
     "name": "stdout",
     "output_type": "stream",
     "text": [
      "['İlk satır eklendi\\n', 'Python,Java,Swift,C#,Vb. Programlama Dilleridir.\\n', 'Samet\\n', 'araya eklenen satır\\n', 'Serhat\\n', 'araya eklenen yeni satır\\n', 'Saime\\n', 'Çelikbıçak\\n', 'Deneme\\n']\n"
     ]
    }
   ],
   "source": [
    "with open(\"bilgiler.txt\",\"r+\", encoding=\"utf-8\") as file:\n",
    "    liste = file.readlines()\n",
    "    liste.insert(5,\"araya eklenen yeni satır\\n\")\n",
    "    print(liste)\n",
    "    file.seek(0)\n",
    "    file.writelines(liste)"
   ]
  },
  {
   "cell_type": "code",
   "execution_count": null,
   "metadata": {
    "collapsed": true
   },
   "outputs": [],
   "source": []
  }
 ],
 "metadata": {
  "kernelspec": {
   "display_name": "Python 3",
   "language": "python",
   "name": "python3"
  },
  "language_info": {
   "codemirror_mode": {
    "name": "ipython",
    "version": 3
   },
   "file_extension": ".py",
   "mimetype": "text/x-python",
   "name": "python",
   "nbconvert_exporter": "python",
   "pygments_lexer": "ipython3",
   "version": "3.6.1"
  }
 },
 "nbformat": 4,
 "nbformat_minor": 2
}
