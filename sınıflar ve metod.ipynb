{
 "cells": [
  {
   "cell_type": "code",
   "execution_count": 9,
   "metadata": {
    "collapsed": true
   },
   "outputs": [],
   "source": [
    "class Yazılımcı():\n",
    "    def __init__(self, isim, soyisim, numara, maaş, diller):\n",
    "        self.isim = isim\n",
    "        self.soyisim = soyisim\n",
    "        self.numara = numara\n",
    "        self.maaş = maaş\n",
    "        self.diller = diller\n",
    "    \n",
    "    def bilgilerigöster(self):\n",
    "        print(\"\"\"\n",
    "        Yazılımcı objesenin özellikleri\n",
    "        İsim: {}\n",
    "        Soyisim: {}\n",
    "        Numara: {}\n",
    "        Maaş: {}\n",
    "        Diller: {}\n",
    "        \"\"\".format(self.isim,self.soyisim,self.numara,self.maaş,self.diller))\n",
    "    def zam_yap(self,zam_miktarı):\n",
    "        print(\"Zam yapılıyor\")\n",
    "        self.maaş += zam_miktarı\n",
    "    \n",
    "    def dil_ekle(self,dil):\n",
    "        print(\"dil ekleniyor\")\n",
    "        self.diller.append(dil)"
   ]
  },
  {
   "cell_type": "code",
   "execution_count": 10,
   "metadata": {
    "collapsed": true
   },
   "outputs": [],
   "source": [
    "yazılımcı = Yazılımcı(\"Samet\",\"Çelikbıçak\",\"2\",4000,[\"Pl/Sql\",\"C#\",\"Python\",\"Vb\",\"Swift\",\"Java\"])"
   ]
  },
  {
   "cell_type": "code",
   "execution_count": 11,
   "metadata": {},
   "outputs": [
    {
     "name": "stdout",
     "output_type": "stream",
     "text": [
      "\n",
      "        Yazılımcı objesenin özellikleri\n",
      "        İsim: Samet\n",
      "        Soyisim: Çelikbıçak\n",
      "        Numara: 2\n",
      "        Maaş: 4000\n",
      "        Diller: ['Pl/Sql', 'C#', 'Python', 'Vb', 'Swift', 'Java']\n",
      "        \n"
     ]
    }
   ],
   "source": [
    "yazılımcı.bilgilerigöster()"
   ]
  },
  {
   "cell_type": "code",
   "execution_count": 12,
   "metadata": {},
   "outputs": [
    {
     "name": "stdout",
     "output_type": "stream",
     "text": [
      "dil ekleniyor\n"
     ]
    }
   ],
   "source": [
    "yazılımcı.dil_ekle(\"Kotlin\")"
   ]
  },
  {
   "cell_type": "code",
   "execution_count": 13,
   "metadata": {},
   "outputs": [
    {
     "name": "stdout",
     "output_type": "stream",
     "text": [
      "\n",
      "        Yazılımcı objesenin özellikleri\n",
      "        İsim: Samet\n",
      "        Soyisim: Çelikbıçak\n",
      "        Numara: 2\n",
      "        Maaş: 4000\n",
      "        Diller: ['Pl/Sql', 'C#', 'Python', 'Vb', 'Swift', 'Java', 'Kotlin']\n",
      "        \n"
     ]
    }
   ],
   "source": [
    "yazılımcı.bilgilerigöster()"
   ]
  },
  {
   "cell_type": "code",
   "execution_count": 14,
   "metadata": {},
   "outputs": [
    {
     "name": "stdout",
     "output_type": "stream",
     "text": [
      "Zam yapılıyor\n"
     ]
    }
   ],
   "source": [
    "yazılımcı.zam_yap(500)"
   ]
  },
  {
   "cell_type": "code",
   "execution_count": 15,
   "metadata": {},
   "outputs": [
    {
     "name": "stdout",
     "output_type": "stream",
     "text": [
      "\n",
      "        Yazılımcı objesenin özellikleri\n",
      "        İsim: Samet\n",
      "        Soyisim: Çelikbıçak\n",
      "        Numara: 2\n",
      "        Maaş: 4500\n",
      "        Diller: ['Pl/Sql', 'C#', 'Python', 'Vb', 'Swift', 'Java', 'Kotlin']\n",
      "        \n"
     ]
    }
   ],
   "source": [
    "yazılımcı.bilgilerigöster()"
   ]
  },
  {
   "cell_type": "code",
   "execution_count": null,
   "metadata": {
    "collapsed": true
   },
   "outputs": [],
   "source": []
  }
 ],
 "metadata": {
  "kernelspec": {
   "display_name": "Python 3",
   "language": "python",
   "name": "python3"
  },
  "language_info": {
   "codemirror_mode": {
    "name": "ipython",
    "version": 3
   },
   "file_extension": ".py",
   "mimetype": "text/x-python",
   "name": "python",
   "nbconvert_exporter": "python",
   "pygments_lexer": "ipython3",
   "version": "3.6.1"
  }
 },
 "nbformat": 4,
 "nbformat_minor": 2
}
