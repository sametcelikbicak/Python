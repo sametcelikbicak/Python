{
 "cells": [
  {
   "cell_type": "code",
   "execution_count": 1,
   "metadata": {
    "collapsed": true
   },
   "outputs": [],
   "source": [
    "class calisan():\n",
    "    def __init__(self,isim,maas,departman):\n",
    "        print(\"çalışan sınıfının init fonksiyonu\")\n",
    "        self.isim = isim\n",
    "        self.maas = maas\n",
    "        self.departman = departman\n",
    "        \n",
    "    def bilgilerigoster(self):\n",
    "        print(\"çalısan sınıfının bilgileri\")\n",
    "        print(\"İsim: {}\\nMaaş: {}\\nDepartman: {}\".format(self.isim,self.maas,self.departman))\n",
    "    \n",
    "    def departmandegistir(self,yenidepartman):\n",
    "        self.departman = yenidepartman\n",
    "        "
   ]
  },
  {
   "cell_type": "code",
   "execution_count": 3,
   "metadata": {},
   "outputs": [
    {
     "ename": "SyntaxError",
     "evalue": "unexpected EOF while parsing (<ipython-input-3-e0b919398b6d>, line 1)",
     "output_type": "error",
     "traceback": [
      "\u001b[0;36m  File \u001b[0;32m\"<ipython-input-3-e0b919398b6d>\"\u001b[0;36m, line \u001b[0;32m1\u001b[0m\n\u001b[0;31m    class yonetici(calisan):\u001b[0m\n\u001b[0m                            ^\u001b[0m\n\u001b[0;31mSyntaxError\u001b[0m\u001b[0;31m:\u001b[0m unexpected EOF while parsing\n"
     ]
    }
   ],
   "source": [
    "class yonetici(calisan):"
   ]
  },
  {
   "cell_type": "code",
   "execution_count": 4,
   "metadata": {
    "collapsed": true
   },
   "outputs": [],
   "source": [
    "class yonetici(calisan):\n",
    "    pass #daha sonra tanımlama yapılacak ise böyle tanım yapılabiliyor."
   ]
  },
  {
   "cell_type": "code",
   "execution_count": 5,
   "metadata": {},
   "outputs": [
    {
     "name": "stdout",
     "output_type": "stream",
     "text": [
      "çalışan sınıfının init fonksiyonu\n"
     ]
    }
   ],
   "source": [
    "yönetici = yonetici(\"Samet\",4000,\"Yazılım\")"
   ]
  },
  {
   "cell_type": "code",
   "execution_count": 7,
   "metadata": {},
   "outputs": [
    {
     "name": "stdout",
     "output_type": "stream",
     "text": [
      "çalısan sınıfının bilgileri\n",
      "İsim: Samet\n",
      "Maaş: 4000\n",
      "Departman: Yazılım\n"
     ]
    }
   ],
   "source": [
    "yönetici.bilgilerigoster()"
   ]
  },
  {
   "cell_type": "code",
   "execution_count": 8,
   "metadata": {
    "collapsed": true
   },
   "outputs": [],
   "source": [
    "yönetici.departmandegistir(\"Bilişim\")"
   ]
  },
  {
   "cell_type": "code",
   "execution_count": 9,
   "metadata": {},
   "outputs": [
    {
     "name": "stdout",
     "output_type": "stream",
     "text": [
      "çalısan sınıfının bilgileri\n",
      "İsim: Samet\n",
      "Maaş: 4000\n",
      "Departman: Bilişim\n"
     ]
    }
   ],
   "source": [
    "yönetici.bilgilerigoster()"
   ]
  },
  {
   "cell_type": "code",
   "execution_count": 12,
   "metadata": {},
   "outputs": [
    {
     "data": {
      "text/plain": [
       "['__class__',\n",
       " '__delattr__',\n",
       " '__dict__',\n",
       " '__dir__',\n",
       " '__doc__',\n",
       " '__eq__',\n",
       " '__format__',\n",
       " '__ge__',\n",
       " '__getattribute__',\n",
       " '__gt__',\n",
       " '__hash__',\n",
       " '__init__',\n",
       " '__init_subclass__',\n",
       " '__le__',\n",
       " '__lt__',\n",
       " '__module__',\n",
       " '__ne__',\n",
       " '__new__',\n",
       " '__reduce__',\n",
       " '__reduce_ex__',\n",
       " '__repr__',\n",
       " '__setattr__',\n",
       " '__sizeof__',\n",
       " '__str__',\n",
       " '__subclasshook__',\n",
       " '__weakref__',\n",
       " 'bilgilerigoster',\n",
       " 'departman',\n",
       " 'departmandegistir',\n",
       " 'isim',\n",
       " 'maas']"
      ]
     },
     "execution_count": 12,
     "metadata": {},
     "output_type": "execute_result"
    }
   ],
   "source": [
    "dir(yönetici)"
   ]
  },
  {
   "cell_type": "code",
   "execution_count": 13,
   "metadata": {
    "collapsed": true
   },
   "outputs": [],
   "source": [
    "class yonetici(calisan):\n",
    "    def zamyap(self,zammiktari):\n",
    "        self.maas += zammiktari"
   ]
  },
  {
   "cell_type": "code",
   "execution_count": 14,
   "metadata": {},
   "outputs": [
    {
     "name": "stdout",
     "output_type": "stream",
     "text": [
      "çalışan sınıfının init fonksiyonu\n"
     ]
    }
   ],
   "source": [
    "yönetici = yonetici(\"Serhat\",3500,\"Elektrik\")"
   ]
  },
  {
   "cell_type": "code",
   "execution_count": 16,
   "metadata": {},
   "outputs": [
    {
     "name": "stdout",
     "output_type": "stream",
     "text": [
      "çalısan sınıfının bilgileri\n",
      "İsim: Serhat\n",
      "Maaş: 3500\n",
      "Departman: Elektrik\n"
     ]
    }
   ],
   "source": [
    "yönetici.bilgilerigoster()"
   ]
  },
  {
   "cell_type": "code",
   "execution_count": 17,
   "metadata": {
    "collapsed": true
   },
   "outputs": [],
   "source": [
    "yönetici.zamyap(500)"
   ]
  },
  {
   "cell_type": "code",
   "execution_count": 18,
   "metadata": {},
   "outputs": [
    {
     "name": "stdout",
     "output_type": "stream",
     "text": [
      "çalısan sınıfının bilgileri\n",
      "İsim: Serhat\n",
      "Maaş: 4000\n",
      "Departman: Elektrik\n"
     ]
    }
   ],
   "source": [
    "yönetici.bilgilerigoster()"
   ]
  },
  {
   "cell_type": "code",
   "execution_count": 19,
   "metadata": {
    "collapsed": true
   },
   "outputs": [],
   "source": [
    "class calisan():\n",
    "    def __init__(self,isim,maas,departman):\n",
    "        print(\"çalışan sınıfının init fonksiyonu\")\n",
    "        self.isim = isim\n",
    "        self.maas = maas\n",
    "        self.departman = departman\n",
    "        \n",
    "    def bilgilerigoster(self):\n",
    "        print(\"çalısan sınıfının bilgileri\")\n",
    "        print(\"İsim: {}\\nMaaş: {}\\nDepartman: {}\".format(self.isim,self.maas,self.departman))\n",
    "    \n",
    "    def departmandegistir(self,yenidepartman):\n",
    "        self.departman = yenidepartman"
   ]
  },
  {
   "cell_type": "code",
   "execution_count": 25,
   "metadata": {
    "collapsed": true
   },
   "outputs": [],
   "source": [
    "#override için örnekler\n",
    "class yonetici(calisan):\n",
    "    def __init__(self,isim,maas,departman,kisisayisi):\n",
    "        print(\"yönetici sınıfının init fonksiyonu\")\n",
    "        self.isim = isim\n",
    "        self.maas = maas\n",
    "        self.departman = departman\n",
    "        self.kisisayisi = kisisayisi\n",
    "        \n",
    "    def bilgilerigoster(self):\n",
    "        print(\"yönetici sınıfının bilgileri\")\n",
    "        print(\"İsim: {}\\nMaaş: {}\\nDepartman: {}\\nSorumlu Kişi: {}\".format(self.isim,self.maas,self.departman,self.kisisayisi))\n",
    "    \n",
    "    def zamyap(self,zammiktari):\n",
    "        self.maas += zammiktari"
   ]
  },
  {
   "cell_type": "code",
   "execution_count": 26,
   "metadata": {},
   "outputs": [
    {
     "name": "stdout",
     "output_type": "stream",
     "text": [
      "yönetici sınıfının init fonksiyonu\n"
     ]
    }
   ],
   "source": [
    "yönetici = yonetici(\"Samet\",4000,\"Yazılım\",10)"
   ]
  },
  {
   "cell_type": "code",
   "execution_count": 27,
   "metadata": {},
   "outputs": [
    {
     "name": "stdout",
     "output_type": "stream",
     "text": [
      "yönetici sınıfının bilgileri\n",
      "İsim: Samet\n",
      "Maaş: 4000\n",
      "Departman: Yazılım\n",
      "Sorumlu Kişi: 10\n"
     ]
    }
   ],
   "source": [
    "yönetici.bilgilerigoster()"
   ]
  },
  {
   "cell_type": "code",
   "execution_count": 28,
   "metadata": {
    "collapsed": true
   },
   "outputs": [],
   "source": [
    "#super anahtar kelimesinin kullanımı örnek\n",
    "class calisan():\n",
    "    def __init__(self,isim,maas,departman):\n",
    "        print(\"çalışan sınıfının init fonksiyonu\")\n",
    "        self.isim = isim\n",
    "        self.maas = maas\n",
    "        self.departman = departman\n",
    "        \n",
    "    def bilgilerigoster(self):\n",
    "        print(\"çalısan sınıfının bilgileri\")\n",
    "        print(\"İsim: {}\\nMaaş: {}\\nDepartman: {}\".format(self.isim,self.maas,self.departman))\n",
    "    \n",
    "    def departmandegistir(self,yenidepartman):\n",
    "        self.departman = yenidepartman"
   ]
  },
  {
   "cell_type": "code",
   "execution_count": 31,
   "metadata": {
    "collapsed": true
   },
   "outputs": [],
   "source": [
    "class yonetici(calisan):\n",
    "    def __init__(self,isim,maas,departman,kisisayisi):\n",
    "        print(\"yönetici sınıfının init fonksiyonu\")\n",
    "        super().__init__(isim,maas,departman)\n",
    "        self.kisisayisi = kisisayisi\n",
    "        \n",
    "    def bilgilerigoster(self):\n",
    "        print(\"yönetici sınıfının bilgileri\")\n",
    "        print(\"İsim: {}\\nMaaş: {}\\nDepartman: {}\\nSorumlu Kişi: {}\".format(self.isim,self.maas,self.departman,self.kisisayisi))\n",
    "    \n",
    "    def zamyap(self,zammiktari):\n",
    "        self.maas += zammiktari"
   ]
  },
  {
   "cell_type": "code",
   "execution_count": 32,
   "metadata": {},
   "outputs": [
    {
     "name": "stdout",
     "output_type": "stream",
     "text": [
      "yönetici sınıfının init fonksiyonu\n",
      "çalışan sınıfının init fonksiyonu\n"
     ]
    }
   ],
   "source": [
    "yönetici = yonetici(\"serhat\",3500,\"elektrik\",5)"
   ]
  },
  {
   "cell_type": "code",
   "execution_count": 33,
   "metadata": {},
   "outputs": [
    {
     "name": "stdout",
     "output_type": "stream",
     "text": [
      "yönetici sınıfının bilgileri\n",
      "İsim: serhat\n",
      "Maaş: 3500\n",
      "Departman: elektrik\n",
      "Sorumlu Kişi: 5\n"
     ]
    }
   ],
   "source": [
    "yönetici.bilgilerigoster()"
   ]
  },
  {
   "cell_type": "code",
   "execution_count": null,
   "metadata": {
    "collapsed": true
   },
   "outputs": [],
   "source": []
  }
 ],
 "metadata": {
  "kernelspec": {
   "display_name": "Python 3",
   "language": "python",
   "name": "python3"
  },
  "language_info": {
   "codemirror_mode": {
    "name": "ipython",
    "version": 3
   },
   "file_extension": ".py",
   "mimetype": "text/x-python",
   "name": "python",
   "nbconvert_exporter": "python",
   "pygments_lexer": "ipython3",
   "version": "3.6.1"
  }
 },
 "nbformat": 4,
 "nbformat_minor": 2
}
