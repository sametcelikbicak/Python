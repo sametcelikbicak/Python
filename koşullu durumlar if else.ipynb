{
 "cells": [
  {
   "cell_type": "code",
   "execution_count": 3,
   "metadata": {},
   "outputs": [
    {
     "name": "stdout",
     "output_type": "stream",
     "text": [
      "yaşınızı giriniz:17\n",
      "mekana giremezsiniz...\n"
     ]
    }
   ],
   "source": [
    "yaş = int(input(\"yaşınızı giriniz:\"))\n",
    "\n",
    "if (yaş < 18):\n",
    "    print(\"mekana giremezsiniz...\")"
   ]
  },
  {
   "cell_type": "code",
   "execution_count": 4,
   "metadata": {},
   "outputs": [
    {
     "name": "stdout",
     "output_type": "stream",
     "text": [
      "yaşınızı giriniz:17\n",
      "mekana giremezsiniz...\n"
     ]
    }
   ],
   "source": [
    "yaş = int(input(\"yaşınızı giriniz:\"))\n",
    "\n",
    "if (yaş < 18):\n",
    "    print(\"mekana giremezsiniz...\")\n",
    "else:\n",
    "    print(\"mekana hoş geldiniz...\")"
   ]
  },
  {
   "cell_type": "code",
   "execution_count": 5,
   "metadata": {},
   "outputs": [
    {
     "name": "stdout",
     "output_type": "stream",
     "text": [
      "yaşınızı giriniz:19\n",
      "mekana hoş geldiniz...\n"
     ]
    }
   ],
   "source": [
    "yaş = int(input(\"yaşınızı giriniz:\"))\n",
    "\n",
    "if (yaş < 18):\n",
    "    print(\"mekana giremezsiniz...\")\n",
    "else:\n",
    "    print(\"mekana hoş geldiniz...\")"
   ]
  },
  {
   "cell_type": "code",
   "execution_count": 6,
   "metadata": {},
   "outputs": [
    {
     "name": "stdout",
     "output_type": "stream",
     "text": [
      "Sayı:2\n",
      "sıfır veya pozitif sayı\n"
     ]
    }
   ],
   "source": [
    "sayı = int(input(\"Sayı:\"))\n",
    "\n",
    "if sayı < 0:\n",
    "    print(\"negatif sayı\")\n",
    "else:\n",
    "    print(\"sıfır veya pozitif sayı\")"
   ]
  },
  {
   "cell_type": "code",
   "execution_count": 7,
   "metadata": {},
   "outputs": [
    {
     "name": "stdout",
     "output_type": "stream",
     "text": [
      "Sayı:-2\n",
      "negatif sayı\n"
     ]
    }
   ],
   "source": [
    "sayı = int(input(\"Sayı:\"))\n",
    "\n",
    "if sayı < 0:\n",
    "    print(\"negatif sayı\")\n",
    "else:\n",
    "    print(\"sıfır veya pozitif sayı\")"
   ]
  },
  {
   "cell_type": "code",
   "execution_count": null,
   "metadata": {
    "collapsed": true
   },
   "outputs": [],
   "source": []
  }
 ],
 "metadata": {
  "kernelspec": {
   "display_name": "Python 3",
   "language": "python",
   "name": "python3"
  },
  "language_info": {
   "codemirror_mode": {
    "name": "ipython",
    "version": 3
   },
   "file_extension": ".py",
   "mimetype": "text/x-python",
   "name": "python",
   "nbconvert_exporter": "python",
   "pygments_lexer": "ipython3",
   "version": "3.6.1"
  }
 },
 "nbformat": 4,
 "nbformat_minor": 2
}
