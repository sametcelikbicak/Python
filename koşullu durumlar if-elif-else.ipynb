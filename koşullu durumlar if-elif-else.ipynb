{
 "cells": [
  {
   "cell_type": "code",
   "execution_count": 3,
   "metadata": {},
   "outputs": [
    {
     "name": "stdout",
     "output_type": "stream",
     "text": [
      "işlem giriniz:2\n",
      "işlem 2 seçildi..\n"
     ]
    }
   ],
   "source": [
    "işlem = input(\"işlem giriniz:\")\n",
    "\n",
    "if işlem == \"1\":\n",
    "    print(\"işlem 1 seçildi..\")\n",
    "elif işlem == \"2\":\n",
    "    print(\"işlem 2 seçildi..\")\n",
    "elif işlem == \"3\":\n",
    "    print(\"işlem 3 seçildi..\")\n",
    "elif işlem == \"4\":\n",
    "    print(\"işlem 4 seçildi..\")\n",
    "else:\n",
    "    print(\"geçersiz işlem..\")\n"
   ]
  },
  {
   "cell_type": "code",
   "execution_count": 4,
   "metadata": {},
   "outputs": [
    {
     "ename": "SyntaxError",
     "evalue": "invalid syntax (<ipython-input-4-1a0cc4459809>, line 1)",
     "output_type": "error",
     "traceback": [
      "\u001b[0;36m  File \u001b[0;32m\"<ipython-input-4-1a0cc4459809>\"\u001b[0;36m, line \u001b[0;32m1\u001b[0m\n\u001b[0;31m    else:\u001b[0m\n\u001b[0m       ^\u001b[0m\n\u001b[0;31mSyntaxError\u001b[0m\u001b[0;31m:\u001b[0m invalid syntax\n"
     ]
    }
   ],
   "source": [
    "else:\n",
    "    print(\"geçersiz işlem\")"
   ]
  },
  {
   "cell_type": "code",
   "execution_count": 6,
   "metadata": {},
   "outputs": [
    {
     "ename": "SyntaxError",
     "evalue": "invalid syntax (<ipython-input-6-433aa1e8df94>, line 3)",
     "output_type": "error",
     "traceback": [
      "\u001b[0;36m  File \u001b[0;32m\"<ipython-input-6-433aa1e8df94>\"\u001b[0;36m, line \u001b[0;32m3\u001b[0m\n\u001b[0;31m    elif işlem == \"1\":\u001b[0m\n\u001b[0m       ^\u001b[0m\n\u001b[0;31mSyntaxError\u001b[0m\u001b[0;31m:\u001b[0m invalid syntax\n"
     ]
    }
   ],
   "source": [
    "işlem = input(\"işlem giriniz:\")\n",
    "\n",
    "elif işlem == \"1\":\n",
    "    print(\"işlem 1 seçildi..\")\n",
    "elif işlem == \"2\":\n",
    "    print(\"işlem 2 seçildi..\")\n",
    "elif işlem == \"3\":\n",
    "    print(\"işlem 3 seçildi..\")\n",
    "elif işlem == \"4\":\n",
    "    print(\"işlem 4 seçildi..\")\n",
    "else:\n",
    "    print(\"geçersiz işlem..\")"
   ]
  },
  {
   "cell_type": "code",
   "execution_count": 8,
   "metadata": {},
   "outputs": [
    {
     "name": "stdout",
     "output_type": "stream",
     "text": [
      "notunuzu girin:75\n",
      "CB\n"
     ]
    }
   ],
   "source": [
    "note = float(input(\"notunuzu girin:\"))\n",
    "\n",
    "if note >= 90:\n",
    "    print(\"AA\")\n",
    "elif note >= 85:\n",
    "    print(\"BA\")\n",
    "elif note >= 80:\n",
    "    print(\"BB\")\n",
    "elif note >= 75:\n",
    "    print(\"CB\")\n",
    "elif note >= 70:\n",
    "    print(\"CC\")\n",
    "elif note >= 65:\n",
    "    print(\"DC\")\n",
    "elif note >= 60:\n",
    "    print(\"DD\")\n",
    "else:\n",
    "    print(\"kaldınız..\")"
   ]
  },
  {
   "cell_type": "code",
   "execution_count": null,
   "metadata": {
    "collapsed": true
   },
   "outputs": [],
   "source": []
  }
 ],
 "metadata": {
  "kernelspec": {
   "display_name": "Python 3",
   "language": "python",
   "name": "python3"
  },
  "language_info": {
   "codemirror_mode": {
    "name": "ipython",
    "version": 3
   },
   "file_extension": ".py",
   "mimetype": "text/x-python",
   "name": "python",
   "nbconvert_exporter": "python",
   "pygments_lexer": "ipython3",
   "version": "3.6.1"
  }
 },
 "nbformat": 4,
 "nbformat_minor": 2
}
