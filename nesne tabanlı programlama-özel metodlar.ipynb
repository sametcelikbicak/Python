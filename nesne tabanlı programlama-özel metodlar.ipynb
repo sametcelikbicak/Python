{
 "cells": [
  {
   "cell_type": "code",
   "execution_count": 1,
   "metadata": {
    "collapsed": true
   },
   "outputs": [],
   "source": [
    "class Kitap():\n",
    "    pass"
   ]
  },
  {
   "cell_type": "code",
   "execution_count": 2,
   "metadata": {
    "collapsed": true
   },
   "outputs": [],
   "source": [
    "kitap = Kitap() ## __init__ metodunu çağrılır."
   ]
  },
  {
   "cell_type": "code",
   "execution_count": 3,
   "metadata": {},
   "outputs": [
    {
     "name": "stdout",
     "output_type": "stream",
     "text": [
      "<__main__.Kitap object at 0x1061eae10>\n"
     ]
    }
   ],
   "source": [
    "print(kitap) ## __str__ metodu"
   ]
  },
  {
   "cell_type": "code",
   "execution_count": 4,
   "metadata": {},
   "outputs": [
    {
     "ename": "TypeError",
     "evalue": "object of type 'Kitap' has no len()",
     "output_type": "error",
     "traceback": [
      "\u001b[0;31m---------------------------------------------------------------------------\u001b[0m",
      "\u001b[0;31mTypeError\u001b[0m                                 Traceback (most recent call last)",
      "\u001b[0;32m<ipython-input-4-b3a1055460e1>\u001b[0m in \u001b[0;36m<module>\u001b[0;34m()\u001b[0m\n\u001b[0;32m----> 1\u001b[0;31m \u001b[0mlen\u001b[0m\u001b[0;34m(\u001b[0m\u001b[0mkitap\u001b[0m\u001b[0;34m)\u001b[0m\u001b[0;34m\u001b[0m\u001b[0m\n\u001b[0m",
      "\u001b[0;31mTypeError\u001b[0m: object of type 'Kitap' has no len()"
     ]
    }
   ],
   "source": [
    "len(kitap) ## __len__ metodu"
   ]
  },
  {
   "cell_type": "code",
   "execution_count": 5,
   "metadata": {
    "collapsed": true
   },
   "outputs": [],
   "source": [
    "del kitap ## __del__ metodu -- obje silmeye yarar"
   ]
  },
  {
   "cell_type": "code",
   "execution_count": 6,
   "metadata": {},
   "outputs": [
    {
     "ename": "NameError",
     "evalue": "name 'kitap' is not defined",
     "output_type": "error",
     "traceback": [
      "\u001b[0;31m---------------------------------------------------------------------------\u001b[0m",
      "\u001b[0;31mNameError\u001b[0m                                 Traceback (most recent call last)",
      "\u001b[0;32m<ipython-input-6-2102c4d2e394>\u001b[0m in \u001b[0;36m<module>\u001b[0;34m()\u001b[0m\n\u001b[0;32m----> 1\u001b[0;31m \u001b[0mkitap\u001b[0m\u001b[0;34m\u001b[0m\u001b[0m\n\u001b[0m",
      "\u001b[0;31mNameError\u001b[0m: name 'kitap' is not defined"
     ]
    }
   ],
   "source": [
    "kitap ## silindiği için artık metod yok"
   ]
  },
  {
   "cell_type": "code",
   "execution_count": 7,
   "metadata": {
    "collapsed": true
   },
   "outputs": [],
   "source": [
    "class Kitap():\n",
    "    def __init__(self,isim,yazar,sayfasayisi,tur):\n",
    "        print(\"init fonksiyonu\")\n",
    "        self.isim = isim\n",
    "        self.yazar = yazar\n",
    "        self.sayfasayisi = sayfasayisi\n",
    "        self.tur = tur\n",
    "        "
   ]
  },
  {
   "cell_type": "code",
   "execution_count": 8,
   "metadata": {},
   "outputs": [
    {
     "name": "stdout",
     "output_type": "stream",
     "text": [
      "init fonksiyonu\n"
     ]
    }
   ],
   "source": [
    "kitap = Kitap(\"İstanbul Hatırası\",\"Ahmet Ümit\",561,\"Polisiye\")"
   ]
  },
  {
   "cell_type": "code",
   "execution_count": 12,
   "metadata": {
    "collapsed": true
   },
   "outputs": [],
   "source": [
    "class Kitap():\n",
    "    def __init__(self,isim,yazar,sayfasayisi,tur):\n",
    "        print(\"init fonksiyonu\")\n",
    "        self.isim = isim\n",
    "        self.yazar = yazar\n",
    "        self.sayfasayisi = sayfasayisi\n",
    "        self.tur = tur\n",
    "    \n",
    "    def __str__(self):\n",
    "        return \"İsim: {}\\nYazar: {}\\nSayfa Sayısı: {}\\nTür: {}\".format(self.isim,self.yazar,self.sayfasayisi,self.tur)\n",
    "    "
   ]
  },
  {
   "cell_type": "code",
   "execution_count": 13,
   "metadata": {},
   "outputs": [
    {
     "name": "stdout",
     "output_type": "stream",
     "text": [
      "init fonksiyonu\n"
     ]
    }
   ],
   "source": [
    "kitap = Kitap(\"İstanbul Hatırası\",\"Ahmet Ümit\",561,\"Polisiye\")"
   ]
  },
  {
   "cell_type": "code",
   "execution_count": 14,
   "metadata": {},
   "outputs": [
    {
     "name": "stdout",
     "output_type": "stream",
     "text": [
      "İsim: İstanbul Hatırası\n",
      "Yazar: Ahmet Ümit\n",
      "Sayfa Sayısı: 561\n",
      "Tür: Polisiye\n"
     ]
    }
   ],
   "source": [
    "print(kitap)"
   ]
  },
  {
   "cell_type": "code",
   "execution_count": 15,
   "metadata": {
    "collapsed": true
   },
   "outputs": [],
   "source": [
    "class Kitap():\n",
    "    def __init__(self,isim,yazar,sayfasayisi,tur):\n",
    "        print(\"init fonksiyonu\")\n",
    "        self.isim = isim\n",
    "        self.yazar = yazar\n",
    "        self.sayfasayisi = sayfasayisi\n",
    "        self.tur = tur\n",
    "    \n",
    "    def __str__(self):\n",
    "        return \"İsim: {}\\nYazar: {}\\nSayfa Sayısı: {}\\nTür: {}\".format(self.isim,self.yazar,self.sayfasayisi,self.tur)\n",
    "    \n",
    "    def __len__(self):\n",
    "        return self.sayfasayisi"
   ]
  },
  {
   "cell_type": "code",
   "execution_count": 16,
   "metadata": {},
   "outputs": [
    {
     "name": "stdout",
     "output_type": "stream",
     "text": [
      "init fonksiyonu\n"
     ]
    }
   ],
   "source": [
    "kitap = Kitap(\"İstanbul Hatırası\",\"Ahmet Ümit\",561,\"Polisiye\")"
   ]
  },
  {
   "cell_type": "code",
   "execution_count": 17,
   "metadata": {},
   "outputs": [
    {
     "data": {
      "text/plain": [
       "561"
      ]
     },
     "execution_count": 17,
     "metadata": {},
     "output_type": "execute_result"
    }
   ],
   "source": [
    "len(kitap)"
   ]
  },
  {
   "cell_type": "code",
   "execution_count": 18,
   "metadata": {
    "collapsed": true
   },
   "outputs": [],
   "source": [
    "class Kitap():\n",
    "    def __init__(self,isim,yazar,sayfasayisi,tur):\n",
    "        print(\"init fonksiyonu\")\n",
    "        self.isim = isim\n",
    "        self.yazar = yazar\n",
    "        self.sayfasayisi = sayfasayisi\n",
    "        self.tur = tur\n",
    "    \n",
    "    def __str__(self):\n",
    "        return \"İsim: {}\\nYazar: {}\\nSayfa Sayısı: {}\\nTür: {}\".format(self.isim,self.yazar,self.sayfasayisi,self.tur)\n",
    "    \n",
    "    def __len__(self):\n",
    "        return self.sayfasayisi\n",
    "    \n",
    "    def __del__(self):\n",
    "        print(\"Kitap objesi siliniyor.\")"
   ]
  },
  {
   "cell_type": "code",
   "execution_count": 22,
   "metadata": {},
   "outputs": [
    {
     "name": "stdout",
     "output_type": "stream",
     "text": [
      "init fonksiyonu\n"
     ]
    }
   ],
   "source": [
    "kitap = Kitap(\"İstanbul Hatırası\",\"Ahmet Ümit\",561,\"Polisiye\")"
   ]
  },
  {
   "cell_type": "code",
   "execution_count": 24,
   "metadata": {
    "collapsed": true
   },
   "outputs": [],
   "source": [
    "del(kitap)"
   ]
  },
  {
   "cell_type": "code",
   "execution_count": 25,
   "metadata": {},
   "outputs": [
    {
     "ename": "NameError",
     "evalue": "name 'kitap' is not defined",
     "output_type": "error",
     "traceback": [
      "\u001b[0;31m---------------------------------------------------------------------------\u001b[0m",
      "\u001b[0;31mNameError\u001b[0m                                 Traceback (most recent call last)",
      "\u001b[0;32m<ipython-input-25-2102c4d2e394>\u001b[0m in \u001b[0;36m<module>\u001b[0;34m()\u001b[0m\n\u001b[0;32m----> 1\u001b[0;31m \u001b[0mkitap\u001b[0m\u001b[0;34m\u001b[0m\u001b[0m\n\u001b[0m",
      "\u001b[0;31mNameError\u001b[0m: name 'kitap' is not defined"
     ]
    }
   ],
   "source": [
    "kitap"
   ]
  },
  {
   "cell_type": "code",
   "execution_count": null,
   "metadata": {
    "collapsed": true
   },
   "outputs": [],
   "source": []
  }
 ],
 "metadata": {
  "kernelspec": {
   "display_name": "Python 3",
   "language": "python",
   "name": "python3"
  },
  "language_info": {
   "codemirror_mode": {
    "name": "ipython",
    "version": 3
   },
   "file_extension": ".py",
   "mimetype": "text/x-python",
   "name": "python",
   "nbconvert_exporter": "python",
   "pygments_lexer": "ipython3",
   "version": "3.6.1"
  }
 },
 "nbformat": 4,
 "nbformat_minor": 2
}
